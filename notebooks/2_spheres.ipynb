{
 "cells": [
  {
   "cell_type": "markdown",
   "metadata": {},
   "source": [
    "## 2 quantum dot spheres"
   ]
  },
  {
   "cell_type": "code",
   "execution_count": null,
   "metadata": {},
   "outputs": [],
   "source": [
    "import importlib as imp\n",
    "import numpy as np,matplotlib.pyplot as plt\n",
    "from pyScatSpheres import qdot_sphere_array as qsa;imp.reload(qsa)\n",
    "from pyScatSpheres import glob_colors as colors\n",
    "from pyScatSpheres import displayStandards as dsp\n",
    "%matplotlib notebook"
   ]
  },
  {
   "cell_type": "code",
   "execution_count": null,
   "metadata": {},
   "outputs": [],
   "source": [
    "qdot1 = qsa.QdotSphereArray(N=2,ka=1,kp=1.25,nmax=4,kd=3)"
   ]
  },
  {
   "cell_type": "code",
   "execution_count": null,
   "metadata": {},
   "outputs": [],
   "source": [
    "# fig,((ax11,ax12),(ax21,ax22),(ax31,ax32)) = plt.subplots(ncols=2,nrows=3)\n",
    "# fig,((ax11,ax12),(ax21,ax22)) = plt.subplots(ncols=2,nrows=2)\n",
    "# qdot1.show_f(npts=200,opts='tTG',fz=np.real,r=(0,7,-5,5),caxis=[-1,1]); \n",
    "args = {'npts':400,'fz':np.real,'def_args':0,'caxis':[-1,1],'short_title':1,'pOpt':'','fonts':{'title':15}}\n",
    "# qdot1.show_f(opts='i ',ax=ax11,**args); \n",
    "# qdot1.show_f(opts='s ',ax=ax21,**args); \n",
    "# qdot1.show_f(opts='tG ',**args); \n",
    "# qdot1.show_f(opts='tG',ax=ax12,**args); \n",
    "qdot1.show_f(opts='tPG',idp=0,**args);\n",
    "qdot1.show_f(opts='tPG',idp=1,**args);"
   ]
  },
  {
   "cell_type": "code",
   "execution_count": null,
   "metadata": {},
   "outputs": [],
   "source": []
  }
 ],
 "metadata": {
  "kernelspec": {
   "display_name": "Python 3",
   "language": "python",
   "name": "python3"
  },
  "language_info": {
   "codemirror_mode": {
    "name": "ipython",
    "version": 3
   },
   "file_extension": ".py",
   "mimetype": "text/x-python",
   "name": "python",
   "nbconvert_exporter": "python",
   "pygments_lexer": "ipython3",
   "version": "3.8.5"
  }
 },
 "nbformat": 4,
 "nbformat_minor": 4
}
