{
 "cells": [
  {
   "cell_type": "markdown",
   "metadata": {},
   "source": [
    "# Spherical quantum dot linear array \n",
    "- [Single sphere](#Single-sphere)\n",
    "    - [Simple example](#Simple-example)\n",
    "    - [Analytical solution](#Analytical-solution)\n",
    "<!-- - [Two spheres](#Two-spheres) -->\n",
    "<!-- - [Linear array of spheres](#Linear-array-spheres) -->\n",
    "\n",
    "The module for solving the linear array of spherical quantum dot is `qdot_sphere_array` of the `pyScatSpheres` package."
   ]
  },
  {
   "cell_type": "code",
   "execution_count": null,
   "metadata": {},
   "outputs": [],
   "source": [
    "import importlib as imp\n",
    "import numpy as np,matplotlib.pyplot as plt\n",
    "from pyScatSpheres import qdot_sphere_array as qsa;imp.reload(qsa)\n",
    "from pyScatSpheres import glob_colors as colors\n",
    "from pyScatSpheres import displayStandards as dsp\n",
    "import IPython\n",
    "%matplotlib notebook"
   ]
  },
  {
   "cell_type": "markdown",
   "metadata": {},
   "source": [
    "## Single sphere\n",
    "The limit case of a an array of only 1 sphere can be used as a sanity check for which the analytical solution of the coefficients is known.\n",
    "\n",
    "###  Simple example \n",
    "Chosing a normalised radius $ka=2$, a wave number $k_p=1.5$ \n",
    "\n",
    "Since we use a small normalised radius, only the first few modes appreciably contribute to field expansion. We set `nmax=5`to indicate that only 5 modes will be used to solve the system."
   ]
  },
  {
   "cell_type": "code",
   "execution_count": null,
   "metadata": {},
   "outputs": [],
   "source": [
    "qdot1 = qsa.QdotSphereArray(N=1,ka=np.pi,kp=1.25,nmax=5)"
   ]
  },
  {
   "cell_type": "markdown",
   "metadata": {},
   "source": [
    "The far field pattern can be displayed with `show_ff()`. \n",
    "\n",
    "Since the field is complex, it is possible using characters in the `fopts` argument to display the the real part `r`, the imaginary part `i`, the phase `a`, the magnitude `m`, and the magnitude squared `2`."
   ]
  },
  {
   "cell_type": "code",
   "execution_count": null,
   "metadata": {},
   "outputs": [],
   "source": [
    "fig,ax = plt.subplots()\n",
    "qdot1.show_ff(ax=ax,fopts='2');"
   ]
  },
  {
   "cell_type": "markdown",
   "metadata": {},
   "source": [
    "The field around the sphere can be obtained with `show_f`.\n",
    "\n",
    "By default, the absolute value of the field is displayed \n",
    "\n",
    "It is possible to use the `opts` argument to display the the total field `t`, the scattered field `s` and the incident field `i`. \n",
    "The radial derivative of the field can be displayed by adding the `G` option."
   ]
  },
  {
   "cell_type": "code",
   "execution_count": null,
   "metadata": {},
   "outputs": [],
   "source": [
    "fig,((ax11,ax12),(ax21,ax22),(ax31,ax32)) = plt.subplots(ncols=2,nrows=3)\n",
    "# qdot1.show_f(npts=200,opts='tTG',fz=np.real,r=(0,7,-5,5),caxis=[-1,1]); \n",
    "args = {'npts':200,'fz':np.real,'def_args':0,'caxis':[-1,1],'short_title':1,'pOpt':'','fonts':{'title':15}}\n",
    "qdot1.show_f(opts='i ',ax=ax11,**args); \n",
    "qdot1.show_f(opts='s ',ax=ax21,**args); \n",
    "qdot1.show_f(opts='t ',ax=ax31,**args); \n",
    "qdot1.show_f(opts='iG',ax=ax12,**args); \n",
    "qdot1.show_f(opts='sG',ax=ax22,**args);\n",
    "qdot1.show_f(opts='tG',ax=ax32,**args);"
   ]
  },
  {
   "cell_type": "code",
   "execution_count": null,
   "metadata": {},
   "outputs": [],
   "source": [
    "import numpy"
   ]
  },
  {
   "cell_type": "markdown",
   "metadata": {},
   "source": [
    "### Analytical solution\n",
    "For a single sphere the analytical coefficients are known analytically :\n",
    "\n",
    "$$a_n=$$\n",
    "\n",
    "The comparison of the far field amplitudes can be found in the plot below:"
   ]
  }
 ],
 "metadata": {
  "kernelspec": {
   "display_name": "Python 3",
   "language": "python",
   "name": "python3"
  },
  "language_info": {
   "codemirror_mode": {
    "name": "ipython",
    "version": 3
   },
   "file_extension": ".py",
   "mimetype": "text/x-python",
   "name": "python",
   "nbconvert_exporter": "python",
   "pygments_lexer": "ipython3",
   "version": "3.8.5"
  }
 },
 "nbformat": 4,
 "nbformat_minor": 4
}
